{
  "nbformat": 4,
  "nbformat_minor": 0,
  "metadata": {
    "colab": {
      "provenance": []
    },
    "kernelspec": {
      "name": "python3",
      "display_name": "Python 3"
    },
    "language_info": {
      "name": "python"
    }
  },
  "cells": [
    {
      "cell_type": "code",
      "execution_count": null,
      "metadata": {
        "id": "J8_NNDkRNoMW"
      },
      "outputs": [],
      "source": [
        "# Step 1: Analysis and Design\n",
        "\n",
        "# Define the user input prompts\n",
        "income_prompt = \"Enter your monthly income: $\"\n",
        "rent_prompt = \"Enter your monthly rent: $\"\n",
        "groceries_prompt = \"Enter your monthly groceries budget: $\"\n",
        "utilities_prompt = \"Enter your monthly utilities budget: $\"\n",
        "entertainment_prompt = \"Enter your monthly entertainment budget: $\"\n",
        "\n",
        "# Step 2: Development\n",
        "\n",
        "# Create a function to get user input\n",
        "def get_user_input(prompt):\n",
        "    while True:\n",
        "        try:\n",
        "            value = float(input(prompt))\n",
        "            if value < 0:\n",
        "                print(\"Please enter a positive value.\")\n",
        "            else:\n",
        "                return value\n",
        "        except ValueError:\n",
        "            print(\"Invalid input. Please enter a numeric value.\")\n",
        "\n",
        "# Step 3: Implementation\n",
        "\n",
        "# Function to calculate and display the budget\n",
        "def calculate_and_display_budget():\n",
        "    # Get user input for income and expenses\n",
        "    monthly_income = get_user_input(income_prompt)\n",
        "    monthly_rent = get_user_input(rent_prompt)\n",
        "    monthly_groceries = get_user_input(groceries_prompt)\n",
        "    monthly_utilities = get_user_input(utilities_prompt)\n",
        "    monthly_entertainment = get_user_input(entertainment_prompt)\n",
        "\n",
        "    # Calculate total expenses and remaining balance\n",
        "    total_expenses = monthly_rent + monthly_groceries + monthly_utilities + monthly_entertainment\n",
        "    remaining_balance = monthly_income - total_expenses\n",
        "\n",
        "    # Display results\n",
        "    print(\"\\nMonthly Budget Summary:\")\n",
        "    print(\"-\" * 30)\n",
        "    print(f\"Income: ${monthly_income:.2f}\")\n",
        "    print(\"Expenses:\")\n",
        "    print(f\"\\tRent: ${monthly_rent:.2f}\")\n",
        "    print(f\"\\tGroceries: ${monthly_groceries:.2f}\")\n",
        "    print(f\"\\tUtilities: ${monthly_utilities:.2f}\")\n",
        "    print(f\"\\tEntertainment: ${monthly_entertainment:.2f}\")\n",
        "    print(\"-\" * 30)\n",
        "    print(f\"Total Expenses: ${total_expenses:.2f}\")\n",
        "    print(f\"Remaining Balance: ${remaining_balance:.2f}\")\n",
        "\n",
        "# Main function to run the budget planner\n",
        "def main():\n",
        "    while True:\n",
        "        calculate_and_display_budget()\n",
        "        repeat = input(\"\\nDo you want to plan another budget scenario? (yes/no): \").strip().lower()\n",
        "        if repeat != 'yes':\n",
        "            break\n",
        "\n",
        "if __name__ == \"__main__\":\n",
        "    main()\n"
      ]
    }
  ]
}